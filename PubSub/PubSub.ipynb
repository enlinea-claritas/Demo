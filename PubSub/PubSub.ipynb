{
 "cells": [
  {
   "cell_type": "code",
   "execution_count": null,
   "id": "5c096688-b72e-439b-b1fe-b946ea178ab9",
   "metadata": {},
   "outputs": [],
   "source": [
    "%%file pubsub_topic.sh\n",
    "#!/bin/bash\n",
    "\n",
    "export GOOGLE_APPLICATION_CREDENTIALS='/home/meng/work/.GCP_SA/mlee-claritas-bigdata-poc.json'\n",
    "export REGION='asia-southeast1'\n",
    "export BUCKET_ID='claritas-bigdata-poc-test'\n",
    "export TOPIC_ID='test'\n",
    "export SUBSCRIPTION_ID='store'\n",
    "\n",
    "# Create a Cloud Storage bucket.\n",
    "# gsutil mb -l $REGION gs://$BUCKET_ID\n",
    "\n",
    "# Create a Pub/Sub topic.\n",
    "gcloud pubsub topics create $TOPIC_ID\n",
    "\n",
    "# Create a Pub/Sub subscription.\n",
    "gcloud pubsub subscriptions create $SUBSCRIPTION_ID \\\n",
    "--topic $TOPIC_ID"
   ]
  },
  {
   "cell_type": "code",
   "execution_count": 1,
   "id": "c75311e4-adf8-4e4b-83ef-41dde7157a90",
   "metadata": {},
   "outputs": [
    {
     "data": {
      "text/plain": [
       "b\"{\\n    'order_id': '84c538fa-ef6f-11ea-a9c3-3db3abcedca9',\\n    'timestamp': 20110816,\\n    'ordered_item': [\\n        {'item_name': 'Product Trolly', 'item_id': '1001', 'category_name': 'category 1', 'item_price': 189.99, 'item_qty': 1}, \\n        {'item_name': 'Product Mystery Box', 'item_id': '1002', 'category_name': 'category 2', 'item_price': 47.0, 'item_qty': 3}, \\n        {'item_name': 'Product Gift Bag', 'item_id': '1003', 'category_name': 'category 3', 'item_price': 23.19, 'item_qty': 5}, \\n        {'item_name': 'Product Small Block', 'item_id': '1004', 'category_name': 'category 4', 'item_price': 44.99, 'item_qty': 1}, \\n        {'item_name': 'Product Cardboard Box', 'item_id': '1005', 'category_name': 'sample category 5', 'item_price': 64.59, 'item_qty': 5}\\n]}\""
      ]
     },
     "execution_count": 1,
     "metadata": {},
     "output_type": "execute_result"
    }
   ],
   "source": [
    "event_data = \"\"\"{\n",
    "    'order_id': '84c538fa-ef6f-11ea-a9c3-3db3abcedca9',\n",
    "    'timestamp': 20110816,\n",
    "    'ordered_item': [\n",
    "        {'item_name': 'Product Trolly', 'item_id': '1001', 'category_name': 'category 1', 'item_price': 189.99, 'item_qty': 1}, \n",
    "        {'item_name': 'Product Mystery Box', 'item_id': '1002', 'category_name': 'category 2', 'item_price': 47.0, 'item_qty': 3}, \n",
    "        {'item_name': 'Product Gift Bag', 'item_id': '1003', 'category_name': 'category 3', 'item_price': 23.19, 'item_qty': 5}, \n",
    "        {'item_name': 'Product Small Block', 'item_id': '1004', 'category_name': 'category 4', 'item_price': 44.99, 'item_qty': 1}, \n",
    "        {'item_name': 'Product Cardboard Box', 'item_id': '1005', 'category_name': 'sample category 5', 'item_price': 64.59, 'item_qty': 5}\n",
    "]}\"\"\"\n",
    "\n",
    "# Data must be a bytestring\n",
    "event_data.encode('utf-8')"
   ]
  },
  {
   "cell_type": "code",
   "execution_count": 6,
   "id": "20ddc88a-18b7-47ba-9db4-6b0b690b95ce",
   "metadata": {},
   "outputs": [
    {
     "name": "stdout",
     "output_type": "stream",
     "text": [
      "2884631842235763\n",
      "Published messages to projects/claritas-bigdata-poc/topics/test.\n"
     ]
    }
   ],
   "source": [
    "import os\n",
    "from google.cloud import pubsub_v1\n",
    "\n",
    "os.environ['GOOGLE_APPLICATION_CREDENTIALS']='/home/meng/work/.GCP_SA/mlee-claritas-bigdata-poc.json'\n",
    "\n",
    "project_id = 'claritas-bigdata-poc'\n",
    "topic_id = 'test'\n",
    "\n",
    "publisher = pubsub_v1.PublisherClient()\n",
    "# The `topic_path` method creates a fully qualified identifier\n",
    "# in the form `projects/{project_id}/topics/{topic_id}`\n",
    "topic_path = publisher.topic_path(project_id, topic_id)\n",
    "\n",
    "# Data must be a bytestring\n",
    "# The client returns a future after publish a message\n",
    "future = publisher.publish(topic_path, event_data.encode('utf-8'))\n",
    "print(future.result())\n",
    "\n",
    "print(f\"Published messages to {topic_path}.\")"
   ]
  },
  {
   "cell_type": "code",
   "execution_count": 5,
   "id": "76febcdf-94f2-4515-b1d5-7adcb2d1b053",
   "metadata": {},
   "outputs": [
    {
     "name": "stdout",
     "output_type": "stream",
     "text": [
      "Listening for messages on projects/claritas-bigdata-poc/subscriptions/store..\n",
      "\n",
      "Received Message {\n",
      "  data: b\"{\\n    'order_id': '84c538fa-ef6f-11ea-a9c3-3db3abc...\"\n",
      "  ordering_key: ''\n",
      "  attributes: {}\n",
      "}.\n"
     ]
    }
   ],
   "source": [
    "import os\n",
    "from google.cloud import pubsub_v1\n",
    "from concurrent.futures import TimeoutError\n",
    "\n",
    "os.environ['GOOGLE_APPLICATION_CREDENTIALS']='/home/meng/work/.GCP_SA/mlee-claritas-bigdata-poc.json'\n",
    "\n",
    "project_id = 'claritas-bigdata-poc'\n",
    "subscription_id = 'store'\n",
    "# Number of seconds the subscriber should listen for messages\n",
    "timeout = 5.0\n",
    "\n",
    "subscriber = pubsub_v1.SubscriberClient()\n",
    "# The `subscription_path` method creates a fully qualified identifier\n",
    "# in the form `projects/{project_id}/subscriptions/{subscription_id}`\n",
    "subscription_path = subscriber.subscription_path(\n",
    "    project_id, subscription_id)\n",
    "\n",
    "def callback(message):\n",
    "    print(f\"Received {message}.\")\n",
    "    message.ack()\n",
    "    \n",
    "streaming_pull_future = subscriber.subscribe(\n",
    "    subscription_path, callback=callback)\n",
    "print(f\"Listening for messages on {subscription_path}..\\n\")\n",
    "\n",
    "# Wrap subscriber in a `with` block to automatically call close() when done.\n",
    "with subscriber:\n",
    "    try:\n",
    "        # When `timeout` is not set, result() will block indefinitely,\n",
    "        # unless an exception is encountered first.\n",
    "        streaming_pull_future.result(timeout=timeout)\n",
    "    except TimeoutError:\n",
    "        # Trigger the shutdown.\n",
    "        streaming_pull_future.cancel()\n",
    "        # Block until the shutdown is complete.\n",
    "        streaming_pull_future.result()"
   ]
  }
 ],
 "metadata": {
  "kernelspec": {
   "display_name": "Python 3",
   "language": "python",
   "name": "python3"
  },
  "language_info": {
   "codemirror_mode": {
    "name": "ipython",
    "version": 3
   },
   "file_extension": ".py",
   "mimetype": "text/x-python",
   "name": "python",
   "nbconvert_exporter": "python",
   "pygments_lexer": "ipython3",
   "version": "3.8.0"
  }
 },
 "nbformat": 4,
 "nbformat_minor": 5
}
